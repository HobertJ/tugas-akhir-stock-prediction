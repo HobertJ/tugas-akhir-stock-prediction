{
  "cells": [
    {
      "cell_type": "markdown",
      "metadata": {
        "id": "9ZHj-DTJo44J"
      },
      "source": [
        "# Overview\n",
        "\n",
        "This notebook contain the process of feature selection to find the best feature from the financial statement that really influence the model's prediction. The sentiment data that is used in the dataset is the best sentiment representation from the previous experiment, which is the experiment to find sentiment representation. The dataset that is used for this experiment is the BBRI dataset."
      ]
    },
    {
      "cell_type": "markdown",
      "metadata": {
        "id": "4A1_wZ7Te9TS"
      },
      "source": [
        "# Fundamental Feature Importance Scoring"
      ]
    },
    {
      "cell_type": "code",
      "execution_count": null,
      "metadata": {
        "id": "X1M0HtLS4ZKf"
      },
      "outputs": [],
      "source": [
        "import re\n",
        "import pandas as pd\n",
        "import numpy as np\n",
        "from sklearn.decomposition import PCA\n",
        "from sklearn.preprocessing import MinMaxScaler\n",
        "from sklearn.metrics import mean_squared_error, mean_absolute_percentage_error\n",
        "from tensorflow.keras.preprocessing.sequence import TimeseriesGenerator\n",
        "from tensorflow.keras.models import Sequential\n",
        "from tensorflow.keras.layers import LSTM, Dense, Input\n",
        "from tensorflow.keras.optimizers import Adam\n",
        "from tensorflow.keras.callbacks import EarlyStopping\n",
        "import matplotlib.pyplot as plt\n",
        "from tqdm.auto import tqdm\n",
        "\n",
        "# DEFINE CONSTANT\n",
        "TRAIN_SIZE = 0.70\n",
        "VAL_SIZE = 0.15\n",
        "TEST_SIZE = 0.15\n",
        "\n",
        "N_COMPONENT_PCA = 0.8\n",
        "TARGET_COLUMN_NAME = \"Closing Price\"\n",
        "EMBEDDING_COLUMN_NAME = \"text_embedding_finbert\"\n",
        "\n",
        "USE_PCA = True\n",
        "N_ITERATION = 20\n",
        "CONTEXT_WINDOW = 5\n",
        "NUM_EPOCHS = 100\n",
        "LEARNING_RATE = 0.001\n",
        "LOSS = \"mse\""
      ]
    },
    {
      "cell_type": "code",
      "execution_count": null,
      "metadata": {
        "colab": {
          "base_uri": "https://localhost:8080/"
        },
        "id": "UvyQWzWi_STM",
        "outputId": "df550280-5c13-494f-a504-e5e10cf62bed"
      },
      "outputs": [],
      "source": [
        "fundamental_features = [\n",
        "    'Cash',\n",
        "    'Revenue',\n",
        "    'Net Income',\n",
        "    'Operating Profit',\n",
        "    'Total Assets',\n",
        "    'Total Liabilities',\n",
        "    'Total Equity',\n",
        "    'Earnings per Share',\n",
        "    'Operating Cash Flow',\n",
        "    'Financing Cash Flow',\n",
        "    'Investing Cash Flow',\n",
        "    'Loan to Deposit Ratio',\n",
        "    'Capital Adequacy Ratio',\n",
        "    'Gross NPL',\n",
        "    'Net NPL',\n",
        "    'Net Interest Margin',\n",
        "    'P/E Ratio',\n",
        "    'P/B Ratio',\n",
        "    'P/S Ratio',\n",
        "    'Operating Margin',\n",
        "    'Debt to Equity Ratio',\n",
        "    'Debt to Assets Ratio',\n",
        "    'Return on Equity',\n",
        "    'Return on Assets'\n",
        "]\n",
        "\n",
        "historic_price_feature = [\n",
        "    'Opening Price',\n",
        "    'Highest Price',\n",
        "    'Lowest Price',\n",
        "    'Volume',\n",
        "    'Change'\n",
        "]\n",
        "\n",
        "print(f\"Length of fundamental features: {len(fundamental_features)}\")"
      ]
    },
    {
      "cell_type": "code",
      "execution_count": null,
      "metadata": {
        "id": "d_wcKMg64vIH"
      },
      "outputs": [],
      "source": [
        "def parse_embedding_from_df(df, embedding_column_name, n_comp, target_column_name=\"Closing Price\"):\n",
        "\n",
        "  feature_columns = fundamental_features + historic_price_feature\n",
        "  column = [target_column_name, embedding_column_name] + feature_columns\n",
        "  df_processed = df[column].copy()\n",
        "\n",
        "  def parse_embedding_string(embedding_str):\n",
        "\n",
        "      if not isinstance(embedding_str, str):\n",
        "          return None # Handle non-string inputs (like NaN)\n",
        "\n",
        "      # Remove brackets and split by whitespace\n",
        "      embedding_str = embedding_str.strip().strip('[]')\n",
        "      # Use regex to find all floating point numbers, including those in scientific notation\n",
        "      numbers = re.findall(r\"[-+]?\\d*\\.?\\d+[eE][-+]?\\d+|[-+]?\\d*\\.\\d+|\\d+\", embedding_str)\n",
        "\n",
        "      try:\n",
        "          # Convert the extracted numbers to floats\n",
        "          return [float(num) for num in numbers]\n",
        "      except ValueError:\n",
        "          return None # Return None if conversion to float fails for any number\n",
        "\n",
        "  # Apply the parsing function to the embedding column and handle potential None values\n",
        "  df_processed['embedding'] = df_processed[embedding_column_name].apply(parse_embedding_string)\n",
        "\n",
        "  # Handle rows where parsing failed (e.g., by filling with zeros)\n",
        "  # Determine the embedding dimension from the first successfully parsed embedding\n",
        "  embedding_dim = None\n",
        "  for embedding_list in df_processed['embedding']:\n",
        "      if embedding_list is not None:\n",
        "          embedding_dim = len(embedding_list)\n",
        "          break\n",
        "\n",
        "  if embedding_dim is None:\n",
        "      # Handle case where all embeddings are None or invalid\n",
        "      # Using a default BERT base dimension as a fallback.\n",
        "      embedding_dim = 768 # Default BERT base dimension\n",
        "      print(f\"Warning: Could not determine embedding dimension from data. Using a default embedding dimension of {embedding_dim}.\")\n",
        "\n",
        "  df_processed['embedding'] = df_processed['embedding'].apply(lambda x: np.array(x, dtype=float) if x is not None else np.zeros(embedding_dim))\n",
        "\n",
        "  def pca_reduce(embedding_list, n_comp=n_comp):\n",
        "    pca = PCA(n_components=n_comp)\n",
        "    embedding_reduced = pca.fit_transform(np.array(embedding_list.tolist())) # Convert list of arrays to numpy array\n",
        "    return embedding_reduced\n",
        "\n",
        "  df_processed['embedding_pca'] = pca_reduce(df_processed['embedding']).tolist()\n",
        "\n",
        "  # Convert feature columns to numeric, coercing errors, and fill NaNs\n",
        "  for col in feature_columns:\n",
        "      df_processed[col] = pd.to_numeric(df_processed[col], errors='coerce')\n",
        "\n",
        "  return df_processed"
      ]
    },
    {
      "cell_type": "code",
      "execution_count": null,
      "metadata": {
        "id": "wil0XQ7xBYLD"
      },
      "outputs": [],
      "source": [
        "def create_static_dataset(series_data, look_back):\n",
        "  dataX, dataY = [], []\n",
        "  for i in range(len(series_data)-look_back):\n",
        "    dataX.append(series_data[i:(i + look_back), :])\n",
        "\n",
        "    dataY.append(series_data[i + look_back, 0])\n",
        "\n",
        "  return np.array(dataX), np.array(dataY)"
      ]
    },
    {
      "cell_type": "code",
      "execution_count": null,
      "metadata": {
        "id": "Rs7kUvuxBxph"
      },
      "outputs": [],
      "source": [
        "bbri_merged_df = pd.read_csv(\"final_bbri_dataset.csv\")\n",
        "df_processed = parse_embedding_from_df(bbri_merged_df, EMBEDDING_COLUMN_NAME, n_comp=N_COMPONENT_PCA)"
      ]
    },
    {
      "cell_type": "code",
      "execution_count": null,
      "metadata": {
        "colab": {
          "base_uri": "https://localhost:8080/"
        },
        "id": "dL65Xedf9mCb",
        "outputId": "e20cd956-c18f-445b-e7cc-05667e927b5a"
      },
      "outputs": [],
      "source": [
        "print(\"Column in the dataset\")\n",
        "for index, col in enumerate(df_processed.columns.tolist()):\n",
        "  print(f\"{index+1}. {col}\")"
      ]
    },
    {
      "cell_type": "code",
      "execution_count": null,
      "metadata": {
        "colab": {
          "base_uri": "https://localhost:8080/"
        },
        "id": "yNAyVmXGrdcf",
        "outputId": "f26d0485-0e73-4bb9-db50-f4c805591169"
      },
      "outputs": [],
      "source": [
        "target_data = df_processed[TARGET_COLUMN_NAME].values\n",
        "\n",
        "# exclude original embedding, processed embedding, embedding_pca, target column, and date from the fundamental feature columns\n",
        "feature_columns = [col for col in df_processed.columns if col not in ([TARGET_COLUMN_NAME, EMBEDDING_COLUMN_NAME, 'Date', 'embedding', 'embedding_pca'])]\n",
        "feature_data = df_processed[feature_columns].values\n",
        "\n",
        "# use the original embedding, not the PCA\n",
        "if USE_PCA:\n",
        "  embedding_data = np.array(df_processed['embedding_pca'].tolist())\n",
        "else:\n",
        "  embedding_data = np.array(df_processed['embedding'].tolist())\n",
        "\n",
        "print(f\"Length of embedding data: {len(embedding_data[0])}\")\n",
        "\n",
        "scaler = MinMaxScaler()\n",
        "scaled_target_data = scaler.fit_transform(target_data.reshape(-1, 1))\n",
        "\n",
        "feature_scaler = MinMaxScaler()\n",
        "scaled_feature_data = feature_scaler.fit_transform(feature_data)\n",
        "\n",
        "combined_data = np.concatenate((scaled_target_data, scaled_feature_data, embedding_data), axis=1)\n",
        "\n",
        "print(f\"Length of combined data: {len(combined_data[0])}\")"
      ]
    },
    {
      "cell_type": "code",
      "execution_count": null,
      "metadata": {
        "id": "3yDj8Z1h5Lzi"
      },
      "outputs": [],
      "source": [
        "n_total = len(combined_data) - CONTEXT_WINDOW\n",
        "train_split_index = int(n_total * TRAIN_SIZE)\n",
        "val_split_index = int(n_total * (TRAIN_SIZE + VAL_SIZE))\n",
        "\n",
        "train_data = combined_data[:train_split_index + CONTEXT_WINDOW]\n",
        "val_data = combined_data[train_split_index:val_split_index + CONTEXT_WINDOW]\n",
        "test_data = combined_data[val_split_index:]\n",
        "\n",
        "X_train, y_train = create_static_dataset(train_data, CONTEXT_WINDOW)\n",
        "X_val, y_val = create_static_dataset(val_data, CONTEXT_WINDOW)\n",
        "X_test, y_test = create_static_dataset(test_data, CONTEXT_WINDOW)"
      ]
    },
    {
      "cell_type": "code",
      "execution_count": null,
      "metadata": {
        "colab": {
          "base_uri": "https://localhost:8080/",
          "height": 49,
          "referenced_widgets": [
            "8a9848c6d5fa4d3b93a2af9f67e0e670",
            "fccae9f9b629463ebfac7df0e65b2b3f",
            "701bf20610ec4200b559c7dbafd0f0f0",
            "b3e0075f427e46c5bbb708d2868349de",
            "d09a49b68dbc49e7bae6b0cf6f356318",
            "0fa9a5466105444f8b49984e371bae35",
            "7c61d35168c3434d8c76fd48b4a210ea",
            "aa6da9bf305f4391aa3032b6b2abfe86",
            "75146c592b76493ba98fbc9b98ff5fe7",
            "05ca8ae0710b485ba4993744e86bbb9a",
            "dd80f1afe1a841a5a91dfe9cadaef29f"
          ]
        },
        "id": "ZQt88ali7pbj",
        "outputId": "f84fb565-6a49-44ee-c65a-7504ce9474ef"
      },
      "outputs": [],
      "source": [
        "# store the baseline error value for each iteration\n",
        "# store the permutation importance score for each feature in each iteration\n",
        "# each iteration permutation importance is in a dictionary form\n",
        "\n",
        "baseline_error_store = {}\n",
        "permutation_importance_store = {}\n",
        "\n",
        "for i in tqdm(range(N_ITERATION), desc='Processing Permutation Importance for Fundamental Feature'):\n",
        "  early_stopping = EarlyStopping(\n",
        "      monitor='loss',\n",
        "      patience=10,\n",
        "      restore_best_weights=True\n",
        "  )\n",
        "\n",
        "  model = Sequential([\n",
        "      Input(shape=(CONTEXT_WINDOW, combined_data.shape[1])),\n",
        "      LSTM(64, activation='relu'),\n",
        "      Dense(32, activation='relu'),\n",
        "      Dense(1, activation='linear')\n",
        "    ])\n",
        "\n",
        "  OPTIMIZER = Adam(learning_rate=LEARNING_RATE)\n",
        "  model.compile(optimizer=OPTIMIZER, loss=LOSS)\n",
        "\n",
        "  history = model.fit(\n",
        "      X_train,\n",
        "      y_train,\n",
        "      epochs=NUM_EPOCHS,\n",
        "      verbose=0,\n",
        "      batch_size=32,\n",
        "      callbacks=[early_stopping],\n",
        "      validation_data=(X_val, y_val)\n",
        "  )\n",
        "\n",
        "  predictions_scaled = model.predict(X_test, verbose=0)\n",
        "  predictions_actual = scaler.inverse_transform(predictions_scaled)\n",
        "  true_actual = scaler.inverse_transform(y_test.reshape(-1, 1))\n",
        "\n",
        "  baseline_error = mean_absolute_percentage_error(true_actual, predictions_actual)\n",
        "\n",
        "  baseline_key = \"baseline_error_\" + str(i+1)\n",
        "  baseline_error = baseline_error * 100\n",
        "  baseline_error_store[baseline_key] = baseline_error\n",
        "\n",
        "  importances_dict_store = {}\n",
        "\n",
        "  for j in range(len(fundamental_features)):\n",
        "    feature_name = fundamental_features[j]\n",
        "    X_test_shuffled = X_test.copy()\n",
        "\n",
        "    # the column that was shuffled is i+1 because of the first column is placed by the target column\n",
        "    np.random.shuffle(X_test_shuffled[:, :, j+1])\n",
        "    predictions_scaled = model.predict(X_test_shuffled, verbose=0)\n",
        "\n",
        "    predictions_actual = scaler.inverse_transform(predictions_scaled)\n",
        "    true_actual = scaler.inverse_transform(y_test.reshape(-1, 1))\n",
        "\n",
        "    permuted_error = mean_absolute_percentage_error(true_actual, predictions_actual)\n",
        "    permuted_error = permuted_error * 100\n",
        "    importance_score = (permuted_error - baseline_error)\n",
        "\n",
        "    importances_dict_store[feature_name] = importance_score\n",
        "\n",
        "  permutation_importance_key = \"permutation_importance_\" + str(i+1)\n",
        "  permutation_importance_store[permutation_importance_key] = importances_dict_store"
      ]
    },
    {
      "cell_type": "code",
      "execution_count": null,
      "metadata": {
        "colab": {
          "base_uri": "https://localhost:8080/",
          "height": 255
        },
        "id": "6voURpac4f3x",
        "outputId": "cc7366b4-6198-403c-8300-97c5af74d7dc"
      },
      "outputs": [],
      "source": [
        "model.summary()"
      ]
    },
    {
      "cell_type": "code",
      "execution_count": null,
      "metadata": {
        "colab": {
          "base_uri": "https://localhost:8080/"
        },
        "id": "0vLKLZnwHRbg",
        "outputId": "7cc25b0f-aeaa-4b69-9763-336b1d30e329"
      },
      "outputs": [],
      "source": [
        "# find average baseline error\n",
        "\n",
        "sum_baseline_error = 0\n",
        "for key in baseline_error_store:\n",
        "  sum_baseline_error += baseline_error_store[key]\n",
        "\n",
        "average_baseline_error = sum_baseline_error / len(baseline_error_store)\n",
        "\n",
        "print(f\"Average baseline error: {average_baseline_error:.3f}\")"
      ]
    },
    {
      "cell_type": "code",
      "execution_count": null,
      "metadata": {
        "id": "43j0NiSSIR2l"
      },
      "outputs": [],
      "source": [
        "# move each permutation importance from dict to list\n",
        "list_perm_importance = []\n",
        "for key in permutation_importance_store:\n",
        "  permutation_importance = permutation_importance_store[key]\n",
        "  list_perm_importance.append(permutation_importance)\n",
        "\n",
        "# find average feature importance error\n",
        "averages = {key: sum(d[key] for d in list_perm_importance) / len(list_perm_importance) for key in list_perm_importance[0]}\n",
        "\n",
        "averages_sorted = sorted(averages.items(), key=lambda item: item[1], reverse=True)"
      ]
    },
    {
      "cell_type": "code",
      "execution_count": null,
      "metadata": {
        "colab": {
          "base_uri": "https://localhost:8080/"
        },
        "id": "KydbyuUla_6g",
        "outputId": "aad73cdb-9cb2-478f-9451-e1a95762fd82"
      },
      "outputs": [],
      "source": [
        "feature_dict = {}\n",
        "for item in averages_sorted:\n",
        "  feature_dict[item[0]] = item[1]\n",
        "  print(item)\n",
        "\n",
        "# Create a DataFrame with a single row\n",
        "feature_importance_df = pd.DataFrame([feature_dict])\n",
        "feature_importance_df.to_csv(\"fundamental_feature_importance_50_iteration.csv\", index=False)"
      ]
    },
    {
      "cell_type": "code",
      "execution_count": null,
      "metadata": {
        "colab": {
          "base_uri": "https://localhost:8080/",
          "height": 564
        },
        "id": "PhQTTx_MMLvR",
        "outputId": "e90864eb-6135-4183-91ee-aafcad945971"
      },
      "outputs": [],
      "source": [
        "features, scores = zip(*averages_sorted)\n",
        "# Sort features and scores in descending order based on scores\n",
        "sorted_indices = sorted(range(len(scores)), key=lambda i: scores[i])\n",
        "sorted_features = [features[i] for i in sorted_indices]\n",
        "sorted_scores = [scores[i] for i in sorted_indices]\n",
        "\n",
        "plt.figure(figsize=(10, 6))\n",
        "plt.barh(sorted_features, sorted_scores, color='mediumseagreen')\n",
        "plt.xlabel(\"Performance Drop (Increase in MAPE)\")\n",
        "plt.title(\"Permutation Importance All Fundamental Features\")\n",
        "plt.grid(axis='x', linestyle='--', alpha=0.6)\n",
        "plt.show()"
      ]
    }
  ],
  "metadata": {
    "accelerator": "GPU",
    "colab": {
      "gpuType": "T4",
      "provenance": []
    },
    "kernelspec": {
      "display_name": "Python 3",
      "name": "python3"
    },
    "language_info": {
      "name": "python"
    },
    "widgets": {
      "application/vnd.jupyter.widget-state+json": {
        "05ca8ae0710b485ba4993744e86bbb9a": {
          "model_module": "@jupyter-widgets/base",
          "model_module_version": "1.2.0",
          "model_name": "LayoutModel",
          "state": {
            "_model_module": "@jupyter-widgets/base",
            "_model_module_version": "1.2.0",
            "_model_name": "LayoutModel",
            "_view_count": null,
            "_view_module": "@jupyter-widgets/base",
            "_view_module_version": "1.2.0",
            "_view_name": "LayoutView",
            "align_content": null,
            "align_items": null,
            "align_self": null,
            "border": null,
            "bottom": null,
            "display": null,
            "flex": null,
            "flex_flow": null,
            "grid_area": null,
            "grid_auto_columns": null,
            "grid_auto_flow": null,
            "grid_auto_rows": null,
            "grid_column": null,
            "grid_gap": null,
            "grid_row": null,
            "grid_template_areas": null,
            "grid_template_columns": null,
            "grid_template_rows": null,
            "height": null,
            "justify_content": null,
            "justify_items": null,
            "left": null,
            "margin": null,
            "max_height": null,
            "max_width": null,
            "min_height": null,
            "min_width": null,
            "object_fit": null,
            "object_position": null,
            "order": null,
            "overflow": null,
            "overflow_x": null,
            "overflow_y": null,
            "padding": null,
            "right": null,
            "top": null,
            "visibility": null,
            "width": null
          }
        },
        "0fa9a5466105444f8b49984e371bae35": {
          "model_module": "@jupyter-widgets/base",
          "model_module_version": "1.2.0",
          "model_name": "LayoutModel",
          "state": {
            "_model_module": "@jupyter-widgets/base",
            "_model_module_version": "1.2.0",
            "_model_name": "LayoutModel",
            "_view_count": null,
            "_view_module": "@jupyter-widgets/base",
            "_view_module_version": "1.2.0",
            "_view_name": "LayoutView",
            "align_content": null,
            "align_items": null,
            "align_self": null,
            "border": null,
            "bottom": null,
            "display": null,
            "flex": null,
            "flex_flow": null,
            "grid_area": null,
            "grid_auto_columns": null,
            "grid_auto_flow": null,
            "grid_auto_rows": null,
            "grid_column": null,
            "grid_gap": null,
            "grid_row": null,
            "grid_template_areas": null,
            "grid_template_columns": null,
            "grid_template_rows": null,
            "height": null,
            "justify_content": null,
            "justify_items": null,
            "left": null,
            "margin": null,
            "max_height": null,
            "max_width": null,
            "min_height": null,
            "min_width": null,
            "object_fit": null,
            "object_position": null,
            "order": null,
            "overflow": null,
            "overflow_x": null,
            "overflow_y": null,
            "padding": null,
            "right": null,
            "top": null,
            "visibility": null,
            "width": null
          }
        },
        "701bf20610ec4200b559c7dbafd0f0f0": {
          "model_module": "@jupyter-widgets/controls",
          "model_module_version": "1.5.0",
          "model_name": "FloatProgressModel",
          "state": {
            "_dom_classes": [],
            "_model_module": "@jupyter-widgets/controls",
            "_model_module_version": "1.5.0",
            "_model_name": "FloatProgressModel",
            "_view_count": null,
            "_view_module": "@jupyter-widgets/controls",
            "_view_module_version": "1.5.0",
            "_view_name": "ProgressView",
            "bar_style": "success",
            "description": "",
            "description_tooltip": null,
            "layout": "IPY_MODEL_aa6da9bf305f4391aa3032b6b2abfe86",
            "max": 1,
            "min": 0,
            "orientation": "horizontal",
            "style": "IPY_MODEL_75146c592b76493ba98fbc9b98ff5fe7",
            "value": 1
          }
        },
        "75146c592b76493ba98fbc9b98ff5fe7": {
          "model_module": "@jupyter-widgets/controls",
          "model_module_version": "1.5.0",
          "model_name": "ProgressStyleModel",
          "state": {
            "_model_module": "@jupyter-widgets/controls",
            "_model_module_version": "1.5.0",
            "_model_name": "ProgressStyleModel",
            "_view_count": null,
            "_view_module": "@jupyter-widgets/base",
            "_view_module_version": "1.2.0",
            "_view_name": "StyleView",
            "bar_color": null,
            "description_width": ""
          }
        },
        "7c61d35168c3434d8c76fd48b4a210ea": {
          "model_module": "@jupyter-widgets/controls",
          "model_module_version": "1.5.0",
          "model_name": "DescriptionStyleModel",
          "state": {
            "_model_module": "@jupyter-widgets/controls",
            "_model_module_version": "1.5.0",
            "_model_name": "DescriptionStyleModel",
            "_view_count": null,
            "_view_module": "@jupyter-widgets/base",
            "_view_module_version": "1.2.0",
            "_view_name": "StyleView",
            "description_width": ""
          }
        },
        "8a9848c6d5fa4d3b93a2af9f67e0e670": {
          "model_module": "@jupyter-widgets/controls",
          "model_module_version": "1.5.0",
          "model_name": "HBoxModel",
          "state": {
            "_dom_classes": [],
            "_model_module": "@jupyter-widgets/controls",
            "_model_module_version": "1.5.0",
            "_model_name": "HBoxModel",
            "_view_count": null,
            "_view_module": "@jupyter-widgets/controls",
            "_view_module_version": "1.5.0",
            "_view_name": "HBoxView",
            "box_style": "",
            "children": [
              "IPY_MODEL_fccae9f9b629463ebfac7df0e65b2b3f",
              "IPY_MODEL_701bf20610ec4200b559c7dbafd0f0f0",
              "IPY_MODEL_b3e0075f427e46c5bbb708d2868349de"
            ],
            "layout": "IPY_MODEL_d09a49b68dbc49e7bae6b0cf6f356318"
          }
        },
        "aa6da9bf305f4391aa3032b6b2abfe86": {
          "model_module": "@jupyter-widgets/base",
          "model_module_version": "1.2.0",
          "model_name": "LayoutModel",
          "state": {
            "_model_module": "@jupyter-widgets/base",
            "_model_module_version": "1.2.0",
            "_model_name": "LayoutModel",
            "_view_count": null,
            "_view_module": "@jupyter-widgets/base",
            "_view_module_version": "1.2.0",
            "_view_name": "LayoutView",
            "align_content": null,
            "align_items": null,
            "align_self": null,
            "border": null,
            "bottom": null,
            "display": null,
            "flex": null,
            "flex_flow": null,
            "grid_area": null,
            "grid_auto_columns": null,
            "grid_auto_flow": null,
            "grid_auto_rows": null,
            "grid_column": null,
            "grid_gap": null,
            "grid_row": null,
            "grid_template_areas": null,
            "grid_template_columns": null,
            "grid_template_rows": null,
            "height": null,
            "justify_content": null,
            "justify_items": null,
            "left": null,
            "margin": null,
            "max_height": null,
            "max_width": null,
            "min_height": null,
            "min_width": null,
            "object_fit": null,
            "object_position": null,
            "order": null,
            "overflow": null,
            "overflow_x": null,
            "overflow_y": null,
            "padding": null,
            "right": null,
            "top": null,
            "visibility": null,
            "width": null
          }
        },
        "b3e0075f427e46c5bbb708d2868349de": {
          "model_module": "@jupyter-widgets/controls",
          "model_module_version": "1.5.0",
          "model_name": "HTMLModel",
          "state": {
            "_dom_classes": [],
            "_model_module": "@jupyter-widgets/controls",
            "_model_module_version": "1.5.0",
            "_model_name": "HTMLModel",
            "_view_count": null,
            "_view_module": "@jupyter-widgets/controls",
            "_view_module_version": "1.5.0",
            "_view_name": "HTMLView",
            "description": "",
            "description_tooltip": null,
            "layout": "IPY_MODEL_05ca8ae0710b485ba4993744e86bbb9a",
            "placeholder": "​",
            "style": "IPY_MODEL_dd80f1afe1a841a5a91dfe9cadaef29f",
            "value": " 1/1 [00:42&lt;00:00, 42.67s/it]"
          }
        },
        "d09a49b68dbc49e7bae6b0cf6f356318": {
          "model_module": "@jupyter-widgets/base",
          "model_module_version": "1.2.0",
          "model_name": "LayoutModel",
          "state": {
            "_model_module": "@jupyter-widgets/base",
            "_model_module_version": "1.2.0",
            "_model_name": "LayoutModel",
            "_view_count": null,
            "_view_module": "@jupyter-widgets/base",
            "_view_module_version": "1.2.0",
            "_view_name": "LayoutView",
            "align_content": null,
            "align_items": null,
            "align_self": null,
            "border": null,
            "bottom": null,
            "display": null,
            "flex": null,
            "flex_flow": null,
            "grid_area": null,
            "grid_auto_columns": null,
            "grid_auto_flow": null,
            "grid_auto_rows": null,
            "grid_column": null,
            "grid_gap": null,
            "grid_row": null,
            "grid_template_areas": null,
            "grid_template_columns": null,
            "grid_template_rows": null,
            "height": null,
            "justify_content": null,
            "justify_items": null,
            "left": null,
            "margin": null,
            "max_height": null,
            "max_width": null,
            "min_height": null,
            "min_width": null,
            "object_fit": null,
            "object_position": null,
            "order": null,
            "overflow": null,
            "overflow_x": null,
            "overflow_y": null,
            "padding": null,
            "right": null,
            "top": null,
            "visibility": null,
            "width": null
          }
        },
        "dd80f1afe1a841a5a91dfe9cadaef29f": {
          "model_module": "@jupyter-widgets/controls",
          "model_module_version": "1.5.0",
          "model_name": "DescriptionStyleModel",
          "state": {
            "_model_module": "@jupyter-widgets/controls",
            "_model_module_version": "1.5.0",
            "_model_name": "DescriptionStyleModel",
            "_view_count": null,
            "_view_module": "@jupyter-widgets/base",
            "_view_module_version": "1.2.0",
            "_view_name": "StyleView",
            "description_width": ""
          }
        },
        "fccae9f9b629463ebfac7df0e65b2b3f": {
          "model_module": "@jupyter-widgets/controls",
          "model_module_version": "1.5.0",
          "model_name": "HTMLModel",
          "state": {
            "_dom_classes": [],
            "_model_module": "@jupyter-widgets/controls",
            "_model_module_version": "1.5.0",
            "_model_name": "HTMLModel",
            "_view_count": null,
            "_view_module": "@jupyter-widgets/controls",
            "_view_module_version": "1.5.0",
            "_view_name": "HTMLView",
            "description": "",
            "description_tooltip": null,
            "layout": "IPY_MODEL_0fa9a5466105444f8b49984e371bae35",
            "placeholder": "​",
            "style": "IPY_MODEL_7c61d35168c3434d8c76fd48b4a210ea",
            "value": "Processing Permutation Importance for Fundamental Feature: 100%"
          }
        }
      }
    }
  },
  "nbformat": 4,
  "nbformat_minor": 0
}
